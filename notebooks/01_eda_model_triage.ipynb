{
 "cells": [
  {
   "cell_type": "markdown",
   "id": "0",
   "metadata": {},
   "source": [
    "# Insurance Claim Approval ML\n",
    "\n",
    "This notebook walks through:\n",
    "- Loading and exploring the dataset\n",
    "- Preprocessing and encoding features\n",
    "- Training a classification model\n",
    "- Flagging claims for manual review based on model uncertainty"
   ]
  },
  {
   "cell_type": "code",
   "execution_count": null,
   "id": "1",
   "metadata": {},
   "outputs": [],
   "source": [
    "import pandas as pd\n",
    "import numpy as np\n",
    "import matplotlib.pyplot as plt\n",
    "import seaborn as sns\n",
    "from sklearn.model_selection import train_test_split\n",
    "from sklearn.preprocessing import StandardScaler, OneHotEncoder\n",
    "from sklearn.compose import ColumnTransformer\n",
    "from sklearn.pipeline import Pipeline\n",
    "from sklearn.ensemble import RandomForestClassifier\n",
    "from sklearn.metrics import classification_report, confusion_matrix, roc_auc_score\n"
   ]
  },
  {
   "cell_type": "code",
   "execution_count": null,
   "id": "2",
   "metadata": {},
   "outputs": [],
   "source": [
    "# Load dataset\n",
    "df = pd.read_csv('../data/enhanced_health_insurance_claims.csv')\n",
    "df.head()"
   ]
  },
  {
   "cell_type": "markdown",
   "id": "3",
   "metadata": {},
   "source": [
    "## Basic Cleaning + Target Setup"
   ]
  },
  {
   "cell_type": "code",
   "execution_count": null,
   "id": "4",
   "metadata": {},
   "outputs": [],
   "source": [
    "# Drop PENDING claims and convert target to binary\n",
    "\n",
    "df = df[df['ClaimStatus'].isin(['Approved', 'Denied'])].copy()\n",
    "df['Target'] = (df['ClaimStatus'] == 'Approved').astype(int)\n",
    "\n",
    "# Drop identifiers and target\n",
    "X = df.drop(columns=['ClaimID', 'PatientID', 'ProviderID', 'ClaimStatus', 'Target', 'ClaimDate'])\n",
    "y = df['Target']"
   ]
  },
  {
   "cell_type": "markdown",
   "id": "5",
   "metadata": {},
   "source": [
    "## Split and Preprocess"
   ]
  },
  {
   "cell_type": "code",
   "execution_count": null,
   "id": "6",
   "metadata": {},
   "outputs": [],
   "source": [
    "# Identify feature types\n",
    "num_feats = ['ClaimAmount', 'PatientAge', 'PatientIncome']\n",
    "cat_feats = [col for col in X.columns if col not in num_feats]\n",
    "\n",
    "# Build preprocessing pipeline\n",
    "preprocessor = ColumnTransformer([\n",
    "    ('num', StandardScaler(), num_feats),\n",
    "    ('cat', OneHotEncoder(handle_unknown='ignore'), cat_feats)\n",
    "])\n",
    "\n",
    "# Combine with model\n",
    "pipeline = Pipeline([\n",
    "    ('prep', preprocessor),\n",
    "    ('clf', RandomForestClassifier(random_state=42))\n",
    "])\n",
    "\n",
    "# Train/test split\n",
    "X_train, X_test, y_train, y_test = train_test_split(X, y, stratify=y, test_size=0.2, random_state=42)\n",
    "\n",
    "# Fit model\n",
    "pipeline.fit(X_train, y_train)"
   ]
  },
  {
   "cell_type": "markdown",
   "id": "7",
   "metadata": {},
   "source": [
    "## Evaluate + Triage Logic"
   ]
  },
  {
   "cell_type": "code",
   "execution_count": null,
   "id": "8",
   "metadata": {},
   "outputs": [],
   "source": [
    "# Predict and get probabilities\n",
    "y_pred = pipeline.predict(X_test)\n",
    "y_proba = pipeline.predict_proba(X_test)[:, 1]\n",
    "\n",
    "# Evaluate\n",
    "print(classification_report(y_test, y_pred))\n",
    "print(\"ROC AUC:\", roc_auc_score(y_test, y_proba))\n",
    "\n",
    "# Triage tagging\n",
    "def triage_flag(prob):\n",
    "    if 0.4 <= prob <= 0.6:\n",
    "        return 'Needs Review'\n",
    "    return 'Confident'\n",
    "\n",
    "triage = pd.DataFrame({\n",
    "    'Predicted': y_pred,\n",
    "    'Prob_Approved': y_proba,\n",
    "    'TriageFlag': [triage_flag(p) for p in y_proba]\n",
    "})\n",
    "\n",
    "triage['TriageFlag'].value_counts()"
   ]
  }
 ],
 "metadata": {
  "kernelspec": {
   "display_name": "venv",
   "language": "python",
   "name": "python3"
  },
  "language_info": {
   "codemirror_mode": {
    "name": "ipython",
    "version": 3
   },
   "file_extension": ".py",
   "mimetype": "text/x-python",
   "name": "python",
   "nbconvert_exporter": "python",
   "pygments_lexer": "ipython3",
   "version": "3.10.11"
  }
 },
 "nbformat": 4,
 "nbformat_minor": 5
}
